{
 "cells": [
  {
   "cell_type": "code",
   "execution_count": 39,
   "id": "4fb42e0e",
   "metadata": {},
   "outputs": [],
   "source": [
    "import pandas as pd\n",
    "import torch\n",
    "import os\n",
    "from transformers import BertTokenizer, BertForSequenceClassification, Trainer, TrainingArguments\n",
    "from torch.utils.data import Dataset\n",
    "from sklearn.model_selection import train_test_split\n"
   ]
  },
  {
   "cell_type": "code",
   "execution_count": 40,
   "id": "45ea3753",
   "metadata": {},
   "outputs": [],
   "source": [
    "gossipcop_fake = pd.read_csv(\"../dataset/gossipcop_fake.csv\")\n",
    "gossipcop_fake['label'] = 1\n",
    "\n",
    "gossipcop_real = pd.read_csv(\"../dataset/gossipcop_real.csv\")\n",
    "gossipcop_real['label'] = 0\n",
    "\n",
    "politifact_fake = pd.read_csv(\"../dataset/politifact_fake.csv\")\n",
    "politifact_fake['label'] = 1\n",
    "\n",
    "politifact_real = pd.read_csv(\"../dataset/politifact_real.csv\")\n",
    "politifact_real['label'] = 0\n",
    "\n",
    "liar_dataset = pd.read_csv(\"../dataset/liar_dataset/valid_binary_reassigned.csv\")"
   ]
  },
  {
   "cell_type": "code",
   "execution_count": 41,
   "id": "1dbe2899",
   "metadata": {},
   "outputs": [],
   "source": [
    "os.makedirs(\"./results/gossipcop\", exist_ok=True)\n",
    "os.makedirs(\"./results/politifact\", exist_ok=True)\n",
    "os.makedirs(\"./results/liar_dataset\", exist_ok=True)\n",
    "os.makedirs(\"./results/politifact_gossipcop\", exist_ok=True)\n",
    "os.makedirs(\"./results/all_three\", exist_ok=True)\n",
    "os.makedirs(\"./logs\", exist_ok=True)"
   ]
  },
  {
   "cell_type": "code",
   "execution_count": 42,
   "id": "b30c6cb2",
   "metadata": {},
   "outputs": [],
   "source": [
    "df_gossipcop = pd.concat([gossipcop_fake, gossipcop_real], ignore_index=True)\n",
    "df_politifact = pd.concat([politifact_fake, politifact_real], ignore_index=True)\n",
    "df_politifact_gossipcop = pd.concat([gossipcop_fake, gossipcop_real, politifact_fake, politifact_real], ignore_index=True)\n",
    "df_liar_dataset = liar_dataset[['title', 'label']]\n",
    "# Now concatenate\n",
    "df_all_three = pd.concat([df_politifact_gossipcop, df_liar_dataset], ignore_index=True)\n",
    "\n",
    "# Final column selection\n",
    "df_gossipcop = df_gossipcop[['title', 'label']]\n",
    "df_politifact = df_politifact[['title', 'label']]\n",
    "df_politifact_gossipcop = df_politifact_gossipcop[['title', 'label']]\n",
    "df_all_three = df_all_three[['title', 'label']]\n",
    "\n",
    "\n",
    "# Save the combined dataset\n",
    "df_gossipcop.to_csv(\"gossipcop_dataset.csv\", index=False)\n",
    "df_politifact.to_csv(\"politifact_dataset.csv\", index=False)\n",
    "df_politifact_gossipcop.to_csv(\"politifact_gossipcop.csv\", index=False)\n",
    "df_all_three.to_csv(\"all_three.csv\")"
   ]
  },
  {
   "cell_type": "code",
   "execution_count": 43,
   "id": "dcd8bfee",
   "metadata": {},
   "outputs": [],
   "source": [
    "tokenizer = BertTokenizer.from_pretrained(\"bert-base-uncased\")"
   ]
  },
  {
   "cell_type": "code",
   "execution_count": 44,
   "id": "ba55356f",
   "metadata": {},
   "outputs": [],
   "source": [
    "from torch.utils.data import Dataset\n",
    "import torch\n",
    "\n",
    "class NewsDataset(Dataset):\n",
    "    def __init__(self, encodings, labels):\n",
    "        self.encodings = encodings\n",
    "        self.labels = labels\n",
    "\n",
    "    def __getitem__(self, idx):\n",
    "        item = {key: torch.tensor(val[idx]) for key, val in self.encodings.items()}\n",
    "        item['labels'] = torch.tensor(self.labels[idx])\n",
    "        return item\n",
    "\n",
    "    def __len__(self):\n",
    "        return len(self.labels)\n"
   ]
  },
  {
   "cell_type": "code",
   "execution_count": 45,
   "id": "6d3814f7",
   "metadata": {},
   "outputs": [],
   "source": [
    "def prepare_datasets(df, tokenizer):\n",
    "    train_texts, val_texts, train_labels, val_labels = train_test_split(\n",
    "        df['title'].tolist(), df['label'].tolist(), test_size=0.2, random_state=42\n",
    "    )\n",
    "    \n",
    "    train_encodings = tokenizer(train_texts, truncation=True, padding=True, max_length=128)\n",
    "    val_encodings = tokenizer(val_texts, truncation=True, padding=True, max_length=128)\n",
    "    \n",
    "    train_dataset = NewsDataset(train_encodings, train_labels)\n",
    "    val_dataset = NewsDataset(val_encodings, val_labels)\n",
    "    \n",
    "    return train_dataset, val_dataset\n"
   ]
  },
  {
   "cell_type": "code",
   "execution_count": null,
   "id": "30b353ca",
   "metadata": {},
   "outputs": [],
   "source": [
    "def train_model(train_dataset, val_dataset, output_dir, model_name):\n",
    "    # Initialize model\n",
    "    model = BertForSequenceClassification.from_pretrained(\"bert-base-uncased\", num_labels=2)\n",
    "    \n",
    "    # Set up training arguments\n",
    "    training_args = TrainingArguments(\n",
    "        output_dir=output_dir,\n",
    "        eval_strategy=\"epoch\",\n",
    "        save_strategy=\"epoch\",\n",
    "        num_train_epochs=3,\n",
    "        per_device_train_batch_size=8,\n",
    "        per_device_eval_batch_size=8,\n",
    "        logging_dir=\"./logs\",\n",
    "        logging_steps=100,\n",
    "        load_best_model_at_end=True,\n",
    "        metric_for_best_model=\"eval_loss\",\n",
    "        greater_is_better=False,\n",
    "        report_to=\"none\"  \n",
    "    )\n",
    "    \n",
    "    # Initialize trainer\n",
    "    trainer = Trainer(\n",
    "        model=model,\n",
    "        args=training_args,\n",
    "        train_dataset=train_dataset,\n",
    "        eval_dataset=val_dataset,\n",
    "    )\n",
    "    \n",
    "    # Train model\n",
    "    print(f\"Training model: {model_name}\")\n",
    "    trainer.train()\n",
    "    \n",
    "    # Save model\n",
    "    model.save_pretrained(f\"{output_dir}/{model_name}\")\n",
    "    tokenizer.save_pretrained(f\"{output_dir}/{model_name}\")\n",
    "    \n",
    "    # Evaluate model\n",
    "    eval_result = trainer.evaluate()\n",
    "    print(f\"Evaluation results for {model_name}:\")\n",
    "    print(eval_result)\n",
    "    \n",
    "    return model, eval_result"
   ]
  },
  {
   "cell_type": "code",
   "execution_count": 47,
   "id": "7aa0ddb6",
   "metadata": {},
   "outputs": [
    {
     "name": "stdout",
     "output_type": "stream",
     "text": [
      "Preparing df_liar_dataset\n",
      "Preparing all_three_val datasets...\n"
     ]
    }
   ],
   "source": [
    "# Prepare datasets\n",
    "# print(\"Preparing GossipCop datasets...\")\n",
    "# gossipcop_train_dataset, gossipcop_val_dataset = prepare_datasets(df_gossipcop, tokenizer)\n",
    "\n",
    "# print(\"Preparing PolitiFact datasets...\")\n",
    "# politifact_train_dataset, politifact_val_dataset = prepare_datasets(df_politifact, tokenizer)\n",
    "\n",
    "# print(\"Preparing politifact_gossipcop datasets...\")\n",
    "# combined_train_dataset, combined_val_dataset = prepare_datasets(df_politifact_gossipcop, tokenizer)\n",
    "\n",
    "print(\"Preparing df_liar_dataset\")\n",
    "liar_dataset_test_dataset, liar_dataset_val_dataset = prepare_datasets(df_liar_dataset, tokenizer)\n",
    "\n",
    "print(\"Preparing all_three_val datasets...\")\n",
    "all_three_test_dataset, all_three_val_dataset = prepare_datasets(df_all_three, tokenizer)"
   ]
  },
  {
   "cell_type": "code",
   "execution_count": 48,
   "id": "e7e57a45",
   "metadata": {},
   "outputs": [],
   "source": [
    "# gossipcop_model, gossipcop_results = train_model(\n",
    "#     gossipcop_train_dataset, \n",
    "#     gossipcop_val_dataset, \n",
    "#     \"./results/gossipcop\", \n",
    "#     \"gossipcop_model\"\n",
    "# )"
   ]
  },
  {
   "cell_type": "code",
   "execution_count": 49,
   "id": "40d121d1",
   "metadata": {},
   "outputs": [],
   "source": [
    "# politifact_model, politifact_results = train_model(\n",
    "#     politifact_train_dataset, \n",
    "#     politifact_val_dataset, \n",
    "#     \"./results/politifact\", \n",
    "#     \"politifact_model\"\n",
    "# )"
   ]
  },
  {
   "cell_type": "code",
   "execution_count": 50,
   "id": "08e12eb2",
   "metadata": {},
   "outputs": [],
   "source": [
    "# combined_model, combined_results = train_model(\n",
    "#     combined_train_dataset, \n",
    "#     combined_val_dataset, \n",
    "#     \"./results/combined\", \n",
    "#     \"combined_model\"\n",
    "# )"
   ]
  },
  {
   "cell_type": "code",
   "execution_count": 51,
   "id": "830f511b",
   "metadata": {},
   "outputs": [
    {
     "name": "stderr",
     "output_type": "stream",
     "text": [
      "Some weights of BertForSequenceClassification were not initialized from the model checkpoint at bert-base-uncased and are newly initialized: ['classifier.bias', 'classifier.weight']\n",
      "You should probably TRAIN this model on a down-stream task to be able to use it for predictions and inference.\n"
     ]
    },
    {
     "name": "stdout",
     "output_type": "stream",
     "text": [
      "Training model: liar_dataset_model\n"
     ]
    },
    {
     "data": {
      "text/html": [
       "\n",
       "    <div>\n",
       "      \n",
       "      <progress value='387' max='387' style='width:300px; height:20px; vertical-align: middle;'></progress>\n",
       "      [387/387 14:32, Epoch 3/3]\n",
       "    </div>\n",
       "    <table border=\"1\" class=\"dataframe\">\n",
       "  <thead>\n",
       " <tr style=\"text-align: left;\">\n",
       "      <th>Epoch</th>\n",
       "      <th>Training Loss</th>\n",
       "      <th>Validation Loss</th>\n",
       "    </tr>\n",
       "  </thead>\n",
       "  <tbody>\n",
       "    <tr>\n",
       "      <td>1</td>\n",
       "      <td>0.696000</td>\n",
       "      <td>0.701899</td>\n",
       "    </tr>\n",
       "    <tr>\n",
       "      <td>2</td>\n",
       "      <td>0.627700</td>\n",
       "      <td>0.762765</td>\n",
       "    </tr>\n",
       "    <tr>\n",
       "      <td>3</td>\n",
       "      <td>0.445500</td>\n",
       "      <td>1.276640</td>\n",
       "    </tr>\n",
       "  </tbody>\n",
       "</table><p>"
      ],
      "text/plain": [
       "<IPython.core.display.HTML object>"
      ]
     },
     "metadata": {},
     "output_type": "display_data"
    },
    {
     "data": {
      "text/html": [
       "\n",
       "    <div>\n",
       "      \n",
       "      <progress value='33' max='33' style='width:300px; height:20px; vertical-align: middle;'></progress>\n",
       "      [33/33 00:10]\n",
       "    </div>\n",
       "    "
      ],
      "text/plain": [
       "<IPython.core.display.HTML object>"
      ]
     },
     "metadata": {},
     "output_type": "display_data"
    },
    {
     "name": "stdout",
     "output_type": "stream",
     "text": [
      "Evaluation results for liar_dataset_model:\n",
      "{'eval_loss': 0.7018986940383911, 'eval_runtime': 10.953, 'eval_samples_per_second': 23.464, 'eval_steps_per_second': 3.013, 'epoch': 3.0}\n"
     ]
    }
   ],
   "source": [
    "liar_model, liar_results = train_model(\n",
    "    liar_dataset_test_dataset, \n",
    "    liar_dataset_val_dataset, \n",
    "    \"./results/liar_dataset\", \n",
    "    \"liar_dataset_model\"\n",
    ")"
   ]
  },
  {
   "cell_type": "code",
   "execution_count": 52,
   "id": "35319a32",
   "metadata": {},
   "outputs": [
    {
     "name": "stderr",
     "output_type": "stream",
     "text": [
      "Some weights of BertForSequenceClassification were not initialized from the model checkpoint at bert-base-uncased and are newly initialized: ['classifier.bias', 'classifier.weight']\n",
      "You should probably TRAIN this model on a down-stream task to be able to use it for predictions and inference.\n"
     ]
    },
    {
     "name": "stdout",
     "output_type": "stream",
     "text": [
      "Training model: all_three_model\n"
     ]
    },
    {
     "data": {
      "text/html": [
       "\n",
       "    <div>\n",
       "      \n",
       "      <progress value='7344' max='7344' style='width:300px; height:20px; vertical-align: middle;'></progress>\n",
       "      [7344/7344 4:29:46, Epoch 3/3]\n",
       "    </div>\n",
       "    <table border=\"1\" class=\"dataframe\">\n",
       "  <thead>\n",
       " <tr style=\"text-align: left;\">\n",
       "      <th>Epoch</th>\n",
       "      <th>Training Loss</th>\n",
       "      <th>Validation Loss</th>\n",
       "    </tr>\n",
       "  </thead>\n",
       "  <tbody>\n",
       "    <tr>\n",
       "      <td>1</td>\n",
       "      <td>0.398900</td>\n",
       "      <td>0.426205</td>\n",
       "    </tr>\n",
       "    <tr>\n",
       "      <td>2</td>\n",
       "      <td>0.330700</td>\n",
       "      <td>0.474835</td>\n",
       "    </tr>\n",
       "    <tr>\n",
       "      <td>3</td>\n",
       "      <td>0.139100</td>\n",
       "      <td>0.638294</td>\n",
       "    </tr>\n",
       "  </tbody>\n",
       "</table><p>"
      ],
      "text/plain": [
       "<IPython.core.display.HTML object>"
      ]
     },
     "metadata": {},
     "output_type": "display_data"
    },
    {
     "data": {
      "text/html": [
       "\n",
       "    <div>\n",
       "      \n",
       "      <progress value='612' max='612' style='width:300px; height:20px; vertical-align: middle;'></progress>\n",
       "      [612/612 03:29]\n",
       "    </div>\n",
       "    "
      ],
      "text/plain": [
       "<IPython.core.display.HTML object>"
      ]
     },
     "metadata": {},
     "output_type": "display_data"
    },
    {
     "name": "stdout",
     "output_type": "stream",
     "text": [
      "Evaluation results for all_three_model:\n",
      "{'eval_loss': 0.4262050986289978, 'eval_runtime': 209.9611, 'eval_samples_per_second': 23.319, 'eval_steps_per_second': 2.915, 'epoch': 3.0}\n"
     ]
    }
   ],
   "source": [
    "all_three_model, all_three_results = train_model(\n",
    "    all_three_test_dataset, \n",
    "    all_three_val_dataset, \n",
    "    \"./results/all_three\", \n",
    "    \"all_three_model\"\n",
    ")"
   ]
  },
  {
   "cell_type": "code",
   "execution_count": 10,
   "id": "504afa9e",
   "metadata": {},
   "outputs": [
    {
     "name": "stdout",
     "output_type": "stream",
     "text": [
      "\n",
      "🔍 Evaluating model: GossipCop\n"
     ]
    },
    {
     "name": "stderr",
     "output_type": "stream",
     "text": [
      "100%|██████████| 277/277 [01:57<00:00,  2.36it/s]\n"
     ]
    },
    {
     "name": "stdout",
     "output_type": "stream",
     "text": [
      "✅ GossipCop Results:\n",
      "Accuracy:  0.8708\n",
      "Precision: 0.7868\n",
      "Recall:    0.6364\n",
      "F1 Score:  0.7036\n",
      "\n",
      "🔍 Evaluating model: combined\n"
     ]
    },
    {
     "name": "stderr",
     "output_type": "stream",
     "text": [
      "100%|██████████| 290/290 [02:06<00:00,  2.29it/s]\n"
     ]
    },
    {
     "name": "stdout",
     "output_type": "stream",
     "text": [
      "✅ combined Results:\n",
      "Accuracy:  0.8425\n",
      "Precision: 0.6999\n",
      "Recall:    0.6359\n",
      "F1 Score:  0.6664\n",
      "\n",
      "🔍 Evaluating model: PolitiFact\n"
     ]
    },
    {
     "name": "stderr",
     "output_type": "stream",
     "text": [
      "100%|██████████| 14/14 [00:05<00:00,  2.39it/s]\n"
     ]
    },
    {
     "name": "stdout",
     "output_type": "stream",
     "text": [
      "✅ PolitiFact Results:\n",
      "Accuracy:  0.8585\n",
      "Precision: 0.8036\n",
      "Recall:    0.9184\n",
      "F1 Score:  0.8571\n",
      "\n",
      "🔍 Evaluating model: LIAR Dataset\n"
     ]
    },
    {
     "name": "stderr",
     "output_type": "stream",
     "text": [
      "100%|██████████| 17/17 [00:10<00:00,  1.55it/s]\n"
     ]
    },
    {
     "name": "stdout",
     "output_type": "stream",
     "text": [
      "✅ LIAR Dataset Results:\n",
      "Accuracy:  0.5175\n",
      "Precision: 0.5185\n",
      "Recall:    0.3307\n",
      "F1 Score:  0.4038\n",
      "\n",
      "🔍 Evaluating model: All Three Combined\n"
     ]
    },
    {
     "name": "stderr",
     "output_type": "stream",
     "text": [
      "100%|██████████| 306/306 [02:14<00:00,  2.28it/s]"
     ]
    },
    {
     "name": "stdout",
     "output_type": "stream",
     "text": [
      "✅ All Three Combined Results:\n",
      "Accuracy:  0.8356\n",
      "Precision: 0.8026\n",
      "Recall:    0.4802\n",
      "F1 Score:  0.6009\n"
     ]
    },
    {
     "name": "stderr",
     "output_type": "stream",
     "text": [
      "\n"
     ]
    }
   ],
   "source": [
    "from evaluation import evaluate_model, load_model_and_tokenizer\n",
    "from sklearn.model_selection import train_test_split\n",
    "import pandas as pd\n",
    "\n",
    "# Define full dataset paths instead of test files\n",
    "models_to_evaluate = [\n",
    "    {\n",
    "        \"name\": \"GossipCop\",\n",
    "        \"model_path\": \"./results/gossipcop/gossipcop_model\",\n",
    "        \"full_data\": \"../dataset/gossipcop_dataset.csv\"\n",
    "    },\n",
    "        {\n",
    "        \"name\": \"combined\",\n",
    "        \"model_path\": \"./results/combined/combined_model\",\n",
    "        \"full_data\": \"../dataset/combined.csv\"\n",
    "    },\n",
    "    {\n",
    "        \"name\": \"PolitiFact\",\n",
    "        \"model_path\": \"./results/politifact/politifact_model\",\n",
    "        \"full_data\": \"../dataset/politifact_dataset.csv\"\n",
    "    },\n",
    "    {\n",
    "        \"name\": \"LIAR Dataset\",\n",
    "        \"model_path\": \"./results/liar_dataset/liar_dataset_model\",\n",
    "        \"full_data\": \"../dataset/liar_dataset/valid_binary_reassigned.csv\"\n",
    "    },\n",
    "    {\n",
    "        \"name\": \"All Three Combined\",\n",
    "        \"model_path\": \"./results/all_three/all_three_model\",\n",
    "        \"full_data\": \"../dataset/all_three.csv\"\n",
    "    },\n",
    "]\n",
    "\n",
    "# Loop through and evaluate each model using a fresh test split\n",
    "for model_info in models_to_evaluate:\n",
    "    print(f\"\\n🔍 Evaluating model: {model_info['name']}\")\n",
    "\n",
    "    # Load model + tokenizer\n",
    "    model, tokenizer = load_model_and_tokenizer(model_info[\"model_path\"])\n",
    "\n",
    "    # Load full dataset and split\n",
    "    full_df = pd.read_csv(model_info[\"full_data\"])\n",
    "    _, test_df = train_test_split(full_df, test_size=0.2, random_state=42)\n",
    "\n",
    "    # Evaluate\n",
    "    acc, precision, recall, f1 = evaluate_model(model, tokenizer, test_df)\n",
    "\n",
    "    print(f\"✅ {model_info['name']} Results:\")\n",
    "    print(f\"Accuracy:  {acc:.4f}\")\n",
    "    print(f\"Precision: {precision:.4f}\")\n",
    "    print(f\"Recall:    {recall:.4f}\")\n",
    "    print(f\"F1 Score:  {f1:.4f}\")\n"
   ]
  }
 ],
 "metadata": {
  "kernelspec": {
   "display_name": ".venv",
   "language": "python",
   "name": "python3"
  },
  "language_info": {
   "codemirror_mode": {
    "name": "ipython",
    "version": 3
   },
   "file_extension": ".py",
   "mimetype": "text/x-python",
   "name": "python",
   "nbconvert_exporter": "python",
   "pygments_lexer": "ipython3",
   "version": "3.10.0"
  }
 },
 "nbformat": 4,
 "nbformat_minor": 5
}
